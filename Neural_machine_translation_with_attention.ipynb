{
  "nbformat": 4,
  "nbformat_minor": 0,
  "metadata": {
    "coursera": {
      "course_slug": "nlp-sequence-models",
      "graded_item_id": "n16CQ",
      "launcher_item_id": "npjGi"
    },
    "kernelspec": {
      "display_name": "Python 3",
      "language": "python",
      "name": "python3"
    },
    "language_info": {
      "codemirror_mode": {
        "name": "ipython",
        "version": 3
      },
      "file_extension": ".py",
      "mimetype": "text/x-python",
      "name": "python",
      "nbconvert_exporter": "python",
      "pygments_lexer": "ipython3",
      "version": "3.7.3"
    },
    "colab": {
      "name": "Neural machine translation with attention.ipynb",
      "provenance": [],
      "include_colab_link": true
    }
  },
  "cells": [
    {
      "cell_type": "markdown",
      "metadata": {
        "id": "view-in-github",
        "colab_type": "text"
      },
      "source": [
        "<a href=\"https://colab.research.google.com/github/hvauchar/Natural-Language-Processing-Projects/blob/master/Neural_machine_translation_with_attention.ipynb\" target=\"_parent\"><img src=\"https://colab.research.google.com/assets/colab-badge.svg\" alt=\"Open In Colab\"/></a>"
      ]
    },
    {
      "cell_type": "code",
      "metadata": {
        "id": "V9V2mAs1m2E5",
        "colab_type": "code",
        "colab": {},
        "outputId": "61e7f732-b264-4be8-a90b-269d7fdcd870"
      },
      "source": [
        "from keras.layers import Bidirectional, Concatenate, Permute, Dot, Input, LSTM, Multiply\n",
        "from keras.layers import RepeatVector, Dense, Activation, Lambda\n",
        "from keras.optimizers import Adam\n",
        "from keras.utils import to_categorical\n",
        "from keras.models import load_model, Model\n",
        "import keras.backend as K\n",
        "import numpy as np\n",
        "\n",
        "from faker import Faker\n",
        "import random\n",
        "from tqdm import tqdm\n",
        "from babel.dates import format_date\n",
        "from nmt_utils import *\n",
        "import matplotlib.pyplot as plt\n",
        "%matplotlib inline"
      ],
      "execution_count": 0,
      "outputs": [
        {
          "output_type": "stream",
          "text": [
            "Using TensorFlow backend.\n"
          ],
          "name": "stderr"
        }
      ]
    },
    {
      "cell_type": "code",
      "metadata": {
        "id": "17rjgQdgm2FM",
        "colab_type": "code",
        "colab": {},
        "outputId": "bb4f09b9-c2d5-49cc-c283-1659b55c8b50"
      },
      "source": [
        "m = 10000\n",
        "dataset, human_vocab, machine_vocab, inv_machine_vocab = load_dataset(m)"
      ],
      "execution_count": 0,
      "outputs": [
        {
          "output_type": "stream",
          "text": [
            "100%|██████████| 10000/10000 [00:01<00:00, 7108.01it/s]\n"
          ],
          "name": "stderr"
        }
      ]
    },
    {
      "cell_type": "code",
      "metadata": {
        "id": "0kYkpRA7m2FY",
        "colab_type": "code",
        "colab": {},
        "outputId": "586bea97-244b-474f-ff08-aa2efbfe6fa3"
      },
      "source": [
        "dataset[:10]"
      ],
      "execution_count": 0,
      "outputs": [
        {
          "output_type": "execute_result",
          "data": {
            "text/plain": [
              "[('9 may 1998', '1998-05-09'),\n",
              " ('10.09.70', '1970-09-10'),\n",
              " ('4/28/90', '1990-04-28'),\n",
              " ('thursday january 26 1995', '1995-01-26'),\n",
              " ('monday march 7 1983', '1983-03-07'),\n",
              " ('sunday may 22 1988', '1988-05-22'),\n",
              " ('tuesday july 8 2008', '2008-07-08'),\n",
              " ('08 sep 1999', '1999-09-08'),\n",
              " ('1 jan 1981', '1981-01-01'),\n",
              " ('monday may 22 1995', '1995-05-22')]"
            ]
          },
          "metadata": {
            "tags": []
          },
          "execution_count": 3
        }
      ]
    },
    {
      "cell_type": "code",
      "metadata": {
        "id": "FEIVEyHMm2Fm",
        "colab_type": "code",
        "colab": {},
        "outputId": "932053f3-dac7-4aed-c2df-6ed58e5fcd10"
      },
      "source": [
        "Tx = 30\n",
        "Ty = 10\n",
        "X, Y, Xoh, Yoh = preprocess_data(dataset, human_vocab, machine_vocab, Tx, Ty)\n",
        "\n",
        "print(\"X.shape:\", X.shape)\n",
        "print(\"Y.shape:\", Y.shape)\n",
        "print(\"Xoh.shape:\", Xoh.shape)\n",
        "print(\"Yoh.shape:\", Yoh.shape)"
      ],
      "execution_count": 0,
      "outputs": [
        {
          "output_type": "stream",
          "text": [
            "X.shape: (10000, 30)\n",
            "Y.shape: (10000, 10)\n",
            "Xoh.shape: (10000, 30, 37)\n",
            "Yoh.shape: (10000, 10, 11)\n"
          ],
          "name": "stdout"
        }
      ]
    },
    {
      "cell_type": "code",
      "metadata": {
        "id": "roRDnwYSm2F2",
        "colab_type": "code",
        "colab": {},
        "outputId": "398849b9-109e-4075-c942-00ecf99569d3"
      },
      "source": [
        "index = 0\n",
        "print(\"Source date:\", dataset[index][0])\n",
        "print(\"Target date:\", dataset[index][1])\n",
        "print()\n",
        "print(\"Source after preprocessing (indices):\", X[index])\n",
        "print(\"Target after preprocessing (indices):\", Y[index])\n",
        "print()\n",
        "print(\"Source after preprocessing (one-hot):\", Xoh[index])\n",
        "print(\"Target after preprocessing (one-hot):\", Yoh[index])"
      ],
      "execution_count": 0,
      "outputs": [
        {
          "output_type": "stream",
          "text": [
            "Source date: 9 may 1998\n",
            "Target date: 1998-05-09\n",
            "\n",
            "Source after preprocessing (indices): [12  0 24 13 34  0  4 12 12 11 36 36 36 36 36 36 36 36 36 36 36 36 36 36 36\n",
            " 36 36 36 36 36]\n",
            "Target after preprocessing (indices): [ 2 10 10  9  0  1  6  0  1 10]\n",
            "\n",
            "Source after preprocessing (one-hot): [[ 0.  0.  0. ...,  0.  0.  0.]\n",
            " [ 1.  0.  0. ...,  0.  0.  0.]\n",
            " [ 0.  0.  0. ...,  0.  0.  0.]\n",
            " ..., \n",
            " [ 0.  0.  0. ...,  0.  0.  1.]\n",
            " [ 0.  0.  0. ...,  0.  0.  1.]\n",
            " [ 0.  0.  0. ...,  0.  0.  1.]]\n",
            "Target after preprocessing (one-hot): [[ 0.  0.  1.  0.  0.  0.  0.  0.  0.  0.  0.]\n",
            " [ 0.  0.  0.  0.  0.  0.  0.  0.  0.  0.  1.]\n",
            " [ 0.  0.  0.  0.  0.  0.  0.  0.  0.  0.  1.]\n",
            " [ 0.  0.  0.  0.  0.  0.  0.  0.  0.  1.  0.]\n",
            " [ 1.  0.  0.  0.  0.  0.  0.  0.  0.  0.  0.]\n",
            " [ 0.  1.  0.  0.  0.  0.  0.  0.  0.  0.  0.]\n",
            " [ 0.  0.  0.  0.  0.  0.  1.  0.  0.  0.  0.]\n",
            " [ 1.  0.  0.  0.  0.  0.  0.  0.  0.  0.  0.]\n",
            " [ 0.  1.  0.  0.  0.  0.  0.  0.  0.  0.  0.]\n",
            " [ 0.  0.  0.  0.  0.  0.  0.  0.  0.  0.  1.]]\n"
          ],
          "name": "stdout"
        }
      ]
    },
    {
      "cell_type": "code",
      "metadata": {
        "id": "Ilq2s6aum2GI",
        "colab_type": "code",
        "colab": {}
      },
      "source": [
        "# Defined shared layers as global variables\n",
        "repeator = RepeatVector(Tx)\n",
        "concatenator = Concatenate(axis=-1)\n",
        "densor1 = Dense(10, activation = \"tanh\")\n",
        "densor2 = Dense(1, activation = \"relu\")\n",
        "activator = Activation(softmax, name='attention_weights') # We are using a custom softmax(axis = 1) loaded in this notebook\n",
        "dotor = Dot(axes = 1)"
      ],
      "execution_count": 0,
      "outputs": []
    },
    {
      "cell_type": "code",
      "metadata": {
        "id": "ae-xQne_m2GW",
        "colab_type": "code",
        "colab": {}
      },
      "source": [
        "def one_step_attention(a, s_prev):\n",
        "    # Use repeator to repeat s_prev to be of shape (m, Tx, n_s) so that you can concatenate it with all hidden states \"a\" (≈ 1 line)\n",
        "    s_prev = repeator(s_prev)\n",
        "    # Use concatenator to concatenate a and s_prev on the last axis (≈ 1 line)\n",
        "    concat = concatenator([a, s_prev])\n",
        "    # Use densor1 to propagate concat through a small fully-connected neural network to compute the \"intermediate energies\" variable e. (≈1 lines)\n",
        "    e = densor1(concat)\n",
        "    # Use densor2 to propagate e through a small fully-connected neural network to compute the \"energies\" variable energies. (≈1 lines)\n",
        "    energies = densor2(e)\n",
        "    # Use \"activator\" on \"energies\" to compute the attention weights \"alphas\" (≈ 1 line)\n",
        "    alphas = activator(energies)\n",
        "    # Use dotor together with \"alphas\" and \"a\" to compute the context vector to be given to the next (post-attention) LSTM-cell (≈ 1 line)\n",
        "    context = dotor([alphas, a])\n",
        "    \n",
        "    return context"
      ],
      "execution_count": 0,
      "outputs": []
    },
    {
      "cell_type": "code",
      "metadata": {
        "id": "6ULR0AWqm2Gj",
        "colab_type": "code",
        "colab": {}
      },
      "source": [
        "n_a = 32\n",
        "n_s = 64\n",
        "post_activation_LSTM_cell = LSTM(n_s, return_state = True)\n",
        "output_layer = Dense(len(machine_vocab), activation=softmax)"
      ],
      "execution_count": 0,
      "outputs": []
    },
    {
      "cell_type": "code",
      "metadata": {
        "id": "DntnC7uWm2Gv",
        "colab_type": "code",
        "colab": {}
      },
      "source": [
        "def model(Tx, Ty, n_a, n_s, human_vocab_size, machine_vocab_size):\n",
        "    \n",
        "    # Define the inputs of your model with a shape (Tx,)\n",
        "    # Define s0 and c0, initial hidden state for the decoder LSTM of shape (n_s,)\n",
        "    X = Input(shape=(Tx, human_vocab_size))\n",
        "    s0 = Input(shape=(n_s,), name='s0')\n",
        "    c0 = Input(shape=(n_s,), name='c0')\n",
        "    s = s0\n",
        "    c = c0\n",
        "    \n",
        "    # Initialize empty list of outputs\n",
        "    outputs = []\n",
        "  \n",
        "    \n",
        "    # Step 1: Define your pre-attention Bi-LSTM. Remember to use return_sequences=True. (≈ 1 line)\n",
        "    a = Bidirectional(LSTM(n_a, return_sequences=True))(X)\n",
        "    \n",
        "    # Step 2: Iterate for Ty steps\n",
        "    for t in range(Ty):\n",
        "    \n",
        "        # Step 2.A: Perform one step of the attention mechanism to get back the context vector at step t (≈ 1 line)\n",
        "        context = one_step_attention(a, s)\n",
        "        \n",
        "        # Step 2.B: Apply the post-attention LSTM cell to the \"context\" vector.\n",
        "        # Don't forget to pass: initial_state = [hidden state, cell state] (≈ 1 line)\n",
        "        s, _, c = post_activation_LSTM_cell(context, initial_state = [s,c])\n",
        "        \n",
        "        # Step 2.C: Apply Dense layer to the hidden state output of the post-attention LSTM (≈ 1 line)\n",
        "        out = output_layer(s)\n",
        "        \n",
        "        # Step 2.D: Append \"out\" to the \"outputs\" list (≈ 1 line)\n",
        "        outputs.append(out)\n",
        "    \n",
        "    # Step 3: Create model instance taking three inputs and returning the list of outputs. (≈ 1 line)\n",
        "    model = Model(inputs=[X, s0, c0], outputs=outputs)\n",
        "   \n",
        "    return model"
      ],
      "execution_count": 0,
      "outputs": []
    },
    {
      "cell_type": "markdown",
      "metadata": {
        "id": "YKOhfcjRm2G_",
        "colab_type": "text"
      },
      "source": [
        "Run the following cell to create your model."
      ]
    },
    {
      "cell_type": "code",
      "metadata": {
        "id": "zYM76BDem2HC",
        "colab_type": "code",
        "colab": {}
      },
      "source": [
        "model = model(Tx, Ty, n_a, n_s, len(human_vocab), len(machine_vocab))"
      ],
      "execution_count": 0,
      "outputs": []
    },
    {
      "cell_type": "code",
      "metadata": {
        "id": "qDjzSkwUm2HM",
        "colab_type": "code",
        "colab": {},
        "outputId": "32d78b34-81d4-423d-9785-7ae129ee337b"
      },
      "source": [
        "model.summary()"
      ],
      "execution_count": 0,
      "outputs": [
        {
          "output_type": "stream",
          "text": [
            "____________________________________________________________________________________________________\n",
            "Layer (type)                     Output Shape          Param #     Connected to                     \n",
            "====================================================================================================\n",
            "input_8 (InputLayer)             (None, 30, 37)        0                                            \n",
            "____________________________________________________________________________________________________\n",
            "s0 (InputLayer)                  (None, 64)            0                                            \n",
            "____________________________________________________________________________________________________\n",
            "bidirectional_8 (Bidirectional)  (None, 30, 64)        17920       input_8[0][0]                    \n",
            "____________________________________________________________________________________________________\n",
            "repeat_vector_1 (RepeatVector)   (None, 30, 64)        0           s0[0][0]                         \n",
            "                                                                   lstm_1[20][0]                    \n",
            "                                                                   lstm_1[21][0]                    \n",
            "                                                                   lstm_1[22][0]                    \n",
            "                                                                   lstm_1[23][0]                    \n",
            "                                                                   lstm_1[24][0]                    \n",
            "                                                                   lstm_1[25][0]                    \n",
            "                                                                   lstm_1[26][0]                    \n",
            "                                                                   lstm_1[27][0]                    \n",
            "                                                                   lstm_1[28][0]                    \n",
            "____________________________________________________________________________________________________\n",
            "concatenate_1 (Concatenate)      multiple              0           bidirectional_8[0][0]            \n",
            "                                                                   repeat_vector_1[23][0]           \n",
            "                                                                   bidirectional_8[0][0]            \n",
            "                                                                   repeat_vector_1[24][0]           \n",
            "                                                                   bidirectional_8[0][0]            \n",
            "                                                                   repeat_vector_1[25][0]           \n",
            "                                                                   bidirectional_8[0][0]            \n",
            "                                                                   repeat_vector_1[26][0]           \n",
            "                                                                   bidirectional_8[0][0]            \n",
            "                                                                   repeat_vector_1[27][0]           \n",
            "                                                                   bidirectional_8[0][0]            \n",
            "                                                                   repeat_vector_1[28][0]           \n",
            "                                                                   bidirectional_8[0][0]            \n",
            "                                                                   repeat_vector_1[29][0]           \n",
            "                                                                   bidirectional_8[0][0]            \n",
            "                                                                   repeat_vector_1[30][0]           \n",
            "                                                                   bidirectional_8[0][0]            \n",
            "                                                                   repeat_vector_1[31][0]           \n",
            "                                                                   bidirectional_8[0][0]            \n",
            "                                                                   repeat_vector_1[32][0]           \n",
            "____________________________________________________________________________________________________\n",
            "dense_2 (Dense)                  (None, 30, 10)        1290        concatenate_1[23][0]             \n",
            "                                                                   concatenate_1[24][0]             \n",
            "                                                                   concatenate_1[25][0]             \n",
            "                                                                   concatenate_1[26][0]             \n",
            "                                                                   concatenate_1[27][0]             \n",
            "                                                                   concatenate_1[28][0]             \n",
            "                                                                   concatenate_1[29][0]             \n",
            "                                                                   concatenate_1[30][0]             \n",
            "                                                                   concatenate_1[31][0]             \n",
            "                                                                   concatenate_1[32][0]             \n",
            "____________________________________________________________________________________________________\n",
            "dense_3 (Dense)                  (None, 30, 1)         11          dense_2[22][0]                   \n",
            "                                                                   dense_2[23][0]                   \n",
            "                                                                   dense_2[24][0]                   \n",
            "                                                                   dense_2[25][0]                   \n",
            "                                                                   dense_2[26][0]                   \n",
            "                                                                   dense_2[27][0]                   \n",
            "                                                                   dense_2[28][0]                   \n",
            "                                                                   dense_2[29][0]                   \n",
            "                                                                   dense_2[30][0]                   \n",
            "                                                                   dense_2[31][0]                   \n",
            "____________________________________________________________________________________________________\n",
            "attention_weights (Activation)   (None, 30, 1)         0           dense_3[22][0]                   \n",
            "                                                                   dense_3[23][0]                   \n",
            "                                                                   dense_3[24][0]                   \n",
            "                                                                   dense_3[25][0]                   \n",
            "                                                                   dense_3[26][0]                   \n",
            "                                                                   dense_3[27][0]                   \n",
            "                                                                   dense_3[28][0]                   \n",
            "                                                                   dense_3[29][0]                   \n",
            "                                                                   dense_3[30][0]                   \n",
            "                                                                   dense_3[31][0]                   \n",
            "____________________________________________________________________________________________________\n",
            "dot_1 (Dot)                      (None, 1, 64)         0           attention_weights[22][0]         \n",
            "                                                                   bidirectional_8[0][0]            \n",
            "                                                                   attention_weights[23][0]         \n",
            "                                                                   bidirectional_8[0][0]            \n",
            "                                                                   attention_weights[24][0]         \n",
            "                                                                   bidirectional_8[0][0]            \n",
            "                                                                   attention_weights[25][0]         \n",
            "                                                                   bidirectional_8[0][0]            \n",
            "                                                                   attention_weights[26][0]         \n",
            "                                                                   bidirectional_8[0][0]            \n",
            "                                                                   attention_weights[27][0]         \n",
            "                                                                   bidirectional_8[0][0]            \n",
            "                                                                   attention_weights[28][0]         \n",
            "                                                                   bidirectional_8[0][0]            \n",
            "                                                                   attention_weights[29][0]         \n",
            "                                                                   bidirectional_8[0][0]            \n",
            "                                                                   attention_weights[30][0]         \n",
            "                                                                   bidirectional_8[0][0]            \n",
            "                                                                   attention_weights[31][0]         \n",
            "                                                                   bidirectional_8[0][0]            \n",
            "____________________________________________________________________________________________________\n",
            "c0 (InputLayer)                  (None, 64)            0                                            \n",
            "____________________________________________________________________________________________________\n",
            "lstm_1 (LSTM)                    [(None, 64), (None, 6 33024       dot_1[22][0]                     \n",
            "                                                                   s0[0][0]                         \n",
            "                                                                   c0[0][0]                         \n",
            "                                                                   dot_1[23][0]                     \n",
            "                                                                   lstm_1[20][0]                    \n",
            "                                                                   lstm_1[20][2]                    \n",
            "                                                                   dot_1[24][0]                     \n",
            "                                                                   lstm_1[21][0]                    \n",
            "                                                                   lstm_1[21][2]                    \n",
            "                                                                   dot_1[25][0]                     \n",
            "                                                                   lstm_1[22][0]                    \n",
            "                                                                   lstm_1[22][2]                    \n",
            "                                                                   dot_1[26][0]                     \n",
            "                                                                   lstm_1[23][0]                    \n",
            "                                                                   lstm_1[23][2]                    \n",
            "                                                                   dot_1[27][0]                     \n",
            "                                                                   lstm_1[24][0]                    \n",
            "                                                                   lstm_1[24][2]                    \n",
            "                                                                   dot_1[28][0]                     \n",
            "                                                                   lstm_1[25][0]                    \n",
            "                                                                   lstm_1[25][2]                    \n",
            "                                                                   dot_1[29][0]                     \n",
            "                                                                   lstm_1[26][0]                    \n",
            "                                                                   lstm_1[26][2]                    \n",
            "                                                                   dot_1[30][0]                     \n",
            "                                                                   lstm_1[27][0]                    \n",
            "                                                                   lstm_1[27][2]                    \n",
            "                                                                   dot_1[31][0]                     \n",
            "                                                                   lstm_1[28][0]                    \n",
            "                                                                   lstm_1[28][2]                    \n",
            "____________________________________________________________________________________________________\n",
            "dense_1 (Dense)                  (None, 11)            715         lstm_1[20][0]                    \n",
            "                                                                   lstm_1[21][0]                    \n",
            "                                                                   lstm_1[22][0]                    \n",
            "                                                                   lstm_1[23][0]                    \n",
            "                                                                   lstm_1[24][0]                    \n",
            "                                                                   lstm_1[25][0]                    \n",
            "                                                                   lstm_1[26][0]                    \n",
            "                                                                   lstm_1[27][0]                    \n",
            "                                                                   lstm_1[28][0]                    \n",
            "                                                                   lstm_1[29][0]                    \n",
            "====================================================================================================\n",
            "Total params: 52,960\n",
            "Trainable params: 52,960\n",
            "Non-trainable params: 0\n",
            "____________________________________________________________________________________________________\n"
          ],
          "name": "stdout"
        }
      ]
    },
    {
      "cell_type": "code",
      "metadata": {
        "id": "kCKH2B-Nm2Ha",
        "colab_type": "code",
        "colab": {}
      },
      "source": [
        "opt = Adam(lr = 0.005, beta_1=0.9, beta_2=0.999, decay = 0.01)\n",
        "model.compile(loss='categorical_crossentropy', optimizer=opt, metrics=['accuracy'])"
      ],
      "execution_count": 0,
      "outputs": []
    },
    {
      "cell_type": "code",
      "metadata": {
        "id": "1hvRo5OAm2Hk",
        "colab_type": "code",
        "colab": {}
      },
      "source": [
        "s0 = np.zeros((m, n_s))\n",
        "c0 = np.zeros((m, n_s))\n",
        "outputs = list(Yoh.swapaxes(0,1))"
      ],
      "execution_count": 0,
      "outputs": []
    },
    {
      "cell_type": "code",
      "metadata": {
        "id": "4TsdIG_Pm2Hz",
        "colab_type": "code",
        "colab": {},
        "outputId": "ac893468-73d3-4e49-f3a7-8663a6cc54b6"
      },
      "source": [
        "model.fit([Xoh, s0, c0], outputs, epochs=1, batch_size=100)"
      ],
      "execution_count": 0,
      "outputs": [
        {
          "output_type": "stream",
          "text": [
            "Epoch 1/1\n",
            "10000/10000 [==============================] - 47s - loss: 16.3767 - dense_1_loss_1: 1.1013 - dense_1_loss_2: 0.8545 - dense_1_loss_3: 1.6242 - dense_1_loss_4: 2.7024 - dense_1_loss_5: 0.7811 - dense_1_loss_6: 1.2984 - dense_1_loss_7: 2.6803 - dense_1_loss_8: 0.9790 - dense_1_loss_9: 1.7253 - dense_1_loss_10: 2.6302 - dense_1_acc_1: 0.5828 - dense_1_acc_2: 0.7490 - dense_1_acc_3: 0.3514 - dense_1_acc_4: 0.0715 - dense_1_acc_5: 0.9769 - dense_1_acc_6: 0.3251 - dense_1_acc_7: 0.0415 - dense_1_acc_8: 0.9567 - dense_1_acc_9: 0.2135 - dense_1_acc_10: 0.0864    \n"
          ],
          "name": "stdout"
        },
        {
          "output_type": "execute_result",
          "data": {
            "text/plain": [
              "<keras.callbacks.History at 0x7fd6aae42860>"
            ]
          },
          "metadata": {
            "tags": []
          },
          "execution_count": 33
        }
      ]
    },
    {
      "cell_type": "code",
      "metadata": {
        "id": "yZo98zEsm2IQ",
        "colab_type": "code",
        "colab": {},
        "outputId": "5b8367f4-8448-445c-8983-79f2d21b3e95"
      },
      "source": [
        "EXAMPLES = ['3 May 1979', '5 April 09', '21th of August 2016', 'Tue 10 Jul 2007', 'Saturday May 9 2018', 'March 3 2001', 'March 3rd 2001', '1 March 2001']\n",
        "for example in EXAMPLES:\n",
        "    \n",
        "    source = string_to_int(example, Tx, human_vocab)\n",
        "    source = np.array(list(map(lambda x: to_categorical(x, num_classes=len(human_vocab)), source))).swapaxes(0,1)\n",
        "    prediction = model.predict([source, s0, c0])\n",
        "    prediction = np.argmax(prediction, axis = -1)\n",
        "    output = [inv_machine_vocab[int(i)] for i in prediction]\n",
        "    \n",
        "    print(\"source:\", example)\n",
        "    print(\"output:\", ''.join(output))"
      ],
      "execution_count": 0,
      "outputs": [
        {
          "output_type": "stream",
          "text": [
            "source: 3 May 1979\n",
            "output: 1979-05-03\n",
            "source: 5 April 09\n",
            "output: 2009-05-05\n",
            "source: 21th of August 2016\n",
            "output: 2016-08-21\n",
            "source: Tue 10 Jul 2007\n",
            "output: 2007-07-10\n",
            "source: Saturday May 9 2018\n",
            "output: 2018-05-09\n",
            "source: March 3 2001\n",
            "output: 2001-03-03\n",
            "source: March 3rd 2001\n",
            "output: 2001-03-03\n",
            "source: 1 March 2001\n",
            "output: 2001-03-01\n"
          ],
          "name": "stdout"
        }
      ]
    },
    {
      "cell_type": "code",
      "metadata": {
        "id": "Rcf_N4WLm2Ig",
        "colab_type": "code",
        "colab": {},
        "outputId": "5eb3f4d6-98df-452a-eade-77797daf6105"
      },
      "source": [
        "model.summary()"
      ],
      "execution_count": 0,
      "outputs": [
        {
          "output_type": "stream",
          "text": [
            "____________________________________________________________________________________________________\n",
            "Layer (type)                     Output Shape          Param #     Connected to                     \n",
            "====================================================================================================\n",
            "input_8 (InputLayer)             (None, 30, 37)        0                                            \n",
            "____________________________________________________________________________________________________\n",
            "s0 (InputLayer)                  (None, 64)            0                                            \n",
            "____________________________________________________________________________________________________\n",
            "bidirectional_8 (Bidirectional)  (None, 30, 64)        17920       input_8[0][0]                    \n",
            "____________________________________________________________________________________________________\n",
            "repeat_vector_1 (RepeatVector)   (None, 30, 64)        0           s0[0][0]                         \n",
            "                                                                   lstm_1[20][0]                    \n",
            "                                                                   lstm_1[21][0]                    \n",
            "                                                                   lstm_1[22][0]                    \n",
            "                                                                   lstm_1[23][0]                    \n",
            "                                                                   lstm_1[24][0]                    \n",
            "                                                                   lstm_1[25][0]                    \n",
            "                                                                   lstm_1[26][0]                    \n",
            "                                                                   lstm_1[27][0]                    \n",
            "                                                                   lstm_1[28][0]                    \n",
            "____________________________________________________________________________________________________\n",
            "concatenate_1 (Concatenate)      multiple              0           bidirectional_8[0][0]            \n",
            "                                                                   repeat_vector_1[23][0]           \n",
            "                                                                   bidirectional_8[0][0]            \n",
            "                                                                   repeat_vector_1[24][0]           \n",
            "                                                                   bidirectional_8[0][0]            \n",
            "                                                                   repeat_vector_1[25][0]           \n",
            "                                                                   bidirectional_8[0][0]            \n",
            "                                                                   repeat_vector_1[26][0]           \n",
            "                                                                   bidirectional_8[0][0]            \n",
            "                                                                   repeat_vector_1[27][0]           \n",
            "                                                                   bidirectional_8[0][0]            \n",
            "                                                                   repeat_vector_1[28][0]           \n",
            "                                                                   bidirectional_8[0][0]            \n",
            "                                                                   repeat_vector_1[29][0]           \n",
            "                                                                   bidirectional_8[0][0]            \n",
            "                                                                   repeat_vector_1[30][0]           \n",
            "                                                                   bidirectional_8[0][0]            \n",
            "                                                                   repeat_vector_1[31][0]           \n",
            "                                                                   bidirectional_8[0][0]            \n",
            "                                                                   repeat_vector_1[32][0]           \n",
            "____________________________________________________________________________________________________\n",
            "dense_2 (Dense)                  (None, 30, 10)        1290        concatenate_1[23][0]             \n",
            "                                                                   concatenate_1[24][0]             \n",
            "                                                                   concatenate_1[25][0]             \n",
            "                                                                   concatenate_1[26][0]             \n",
            "                                                                   concatenate_1[27][0]             \n",
            "                                                                   concatenate_1[28][0]             \n",
            "                                                                   concatenate_1[29][0]             \n",
            "                                                                   concatenate_1[30][0]             \n",
            "                                                                   concatenate_1[31][0]             \n",
            "                                                                   concatenate_1[32][0]             \n",
            "____________________________________________________________________________________________________\n",
            "dense_3 (Dense)                  (None, 30, 1)         11          dense_2[22][0]                   \n",
            "                                                                   dense_2[23][0]                   \n",
            "                                                                   dense_2[24][0]                   \n",
            "                                                                   dense_2[25][0]                   \n",
            "                                                                   dense_2[26][0]                   \n",
            "                                                                   dense_2[27][0]                   \n",
            "                                                                   dense_2[28][0]                   \n",
            "                                                                   dense_2[29][0]                   \n",
            "                                                                   dense_2[30][0]                   \n",
            "                                                                   dense_2[31][0]                   \n",
            "____________________________________________________________________________________________________\n",
            "attention_weights (Activation)   (None, 30, 1)         0           dense_3[22][0]                   \n",
            "                                                                   dense_3[23][0]                   \n",
            "                                                                   dense_3[24][0]                   \n",
            "                                                                   dense_3[25][0]                   \n",
            "                                                                   dense_3[26][0]                   \n",
            "                                                                   dense_3[27][0]                   \n",
            "                                                                   dense_3[28][0]                   \n",
            "                                                                   dense_3[29][0]                   \n",
            "                                                                   dense_3[30][0]                   \n",
            "                                                                   dense_3[31][0]                   \n",
            "____________________________________________________________________________________________________\n",
            "dot_1 (Dot)                      (None, 1, 64)         0           attention_weights[22][0]         \n",
            "                                                                   bidirectional_8[0][0]            \n",
            "                                                                   attention_weights[23][0]         \n",
            "                                                                   bidirectional_8[0][0]            \n",
            "                                                                   attention_weights[24][0]         \n",
            "                                                                   bidirectional_8[0][0]            \n",
            "                                                                   attention_weights[25][0]         \n",
            "                                                                   bidirectional_8[0][0]            \n",
            "                                                                   attention_weights[26][0]         \n",
            "                                                                   bidirectional_8[0][0]            \n",
            "                                                                   attention_weights[27][0]         \n",
            "                                                                   bidirectional_8[0][0]            \n",
            "                                                                   attention_weights[28][0]         \n",
            "                                                                   bidirectional_8[0][0]            \n",
            "                                                                   attention_weights[29][0]         \n",
            "                                                                   bidirectional_8[0][0]            \n",
            "                                                                   attention_weights[30][0]         \n",
            "                                                                   bidirectional_8[0][0]            \n",
            "                                                                   attention_weights[31][0]         \n",
            "                                                                   bidirectional_8[0][0]            \n",
            "____________________________________________________________________________________________________\n",
            "c0 (InputLayer)                  (None, 64)            0                                            \n",
            "____________________________________________________________________________________________________\n",
            "lstm_1 (LSTM)                    [(None, 64), (None, 6 33024       dot_1[22][0]                     \n",
            "                                                                   s0[0][0]                         \n",
            "                                                                   c0[0][0]                         \n",
            "                                                                   dot_1[23][0]                     \n",
            "                                                                   lstm_1[20][0]                    \n",
            "                                                                   lstm_1[20][2]                    \n",
            "                                                                   dot_1[24][0]                     \n",
            "                                                                   lstm_1[21][0]                    \n",
            "                                                                   lstm_1[21][2]                    \n",
            "                                                                   dot_1[25][0]                     \n",
            "                                                                   lstm_1[22][0]                    \n",
            "                                                                   lstm_1[22][2]                    \n",
            "                                                                   dot_1[26][0]                     \n",
            "                                                                   lstm_1[23][0]                    \n",
            "                                                                   lstm_1[23][2]                    \n",
            "                                                                   dot_1[27][0]                     \n",
            "                                                                   lstm_1[24][0]                    \n",
            "                                                                   lstm_1[24][2]                    \n",
            "                                                                   dot_1[28][0]                     \n",
            "                                                                   lstm_1[25][0]                    \n",
            "                                                                   lstm_1[25][2]                    \n",
            "                                                                   dot_1[29][0]                     \n",
            "                                                                   lstm_1[26][0]                    \n",
            "                                                                   lstm_1[26][2]                    \n",
            "                                                                   dot_1[30][0]                     \n",
            "                                                                   lstm_1[27][0]                    \n",
            "                                                                   lstm_1[27][2]                    \n",
            "                                                                   dot_1[31][0]                     \n",
            "                                                                   lstm_1[28][0]                    \n",
            "                                                                   lstm_1[28][2]                    \n",
            "____________________________________________________________________________________________________\n",
            "dense_1 (Dense)                  (None, 11)            715         lstm_1[20][0]                    \n",
            "                                                                   lstm_1[21][0]                    \n",
            "                                                                   lstm_1[22][0]                    \n",
            "                                                                   lstm_1[23][0]                    \n",
            "                                                                   lstm_1[24][0]                    \n",
            "                                                                   lstm_1[25][0]                    \n",
            "                                                                   lstm_1[26][0]                    \n",
            "                                                                   lstm_1[27][0]                    \n",
            "                                                                   lstm_1[28][0]                    \n",
            "                                                                   lstm_1[29][0]                    \n",
            "====================================================================================================\n",
            "Total params: 52,960\n",
            "Trainable params: 52,960\n",
            "Non-trainable params: 0\n",
            "____________________________________________________________________________________________________\n"
          ],
          "name": "stdout"
        }
      ]
    },
    {
      "cell_type": "code",
      "metadata": {
        "scrolled": false,
        "id": "mqZwrMw9m2Ir",
        "colab_type": "code",
        "colab": {}
      },
      "source": [
        "attention_map = plot_attention_map(model, human_vocab, inv_machine_vocab, \"Tuesday 09 Oct 1993\", num = 7, n_s = 64)"
      ],
      "execution_count": 0,
      "outputs": []
    }
  ]
}